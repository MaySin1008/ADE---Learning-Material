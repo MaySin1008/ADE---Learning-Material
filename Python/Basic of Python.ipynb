{
 "cells": [
  {
   "cell_type": "markdown",
   "metadata": {},
   "source": [
    "# Introduction to Python"
   ]
  },
  {
   "cell_type": "markdown",
   "metadata": {},
   "source": [
    "# Print Output"
   ]
  },
  {
   "cell_type": "code",
   "execution_count": null,
   "metadata": {},
   "outputs": [],
   "source": [
    "print('Welcome')"
   ]
  },
  {
   "cell_type": "markdown",
   "metadata": {},
   "source": [
    "# Data Type"
   ]
  },
  {
   "cell_type": "code",
   "execution_count": 6,
   "metadata": {},
   "outputs": [
    {
     "name": "stdout",
     "output_type": "stream",
     "text": [
      "<class 'int'>\n"
     ]
    }
   ],
   "source": [
    "a=6\n",
    "print(type(a))"
   ]
  },
  {
   "cell_type": "code",
   "execution_count": 4,
   "metadata": {
    "scrolled": true
   },
   "outputs": [
    {
     "name": "stdout",
     "output_type": "stream",
     "text": [
      "<class 'str'>\n",
      "<class 'int'>\n",
      "<class 'float'>\n"
     ]
    }
   ],
   "source": [
    "city = \"Berlin\" #stores a string\n",
    "age = 42 #stores an integer\n",
    "balance = 830.29 #stores a float\n",
    "print(type(city)) #outputs <class 'str'>\n",
    "print(type(age)) #outputs <class 'int'>\n",
    "print(type(balance)) #outputs <class 'float'>"
   ]
  },
  {
   "cell_type": "markdown",
   "metadata": {},
   "source": [
    "# Input"
   ]
  },
  {
   "cell_type": "code",
   "execution_count": 1,
   "metadata": {},
   "outputs": [
    {
     "name": "stdout",
     "output_type": "stream",
     "text": [
      "1996\n",
      "<class 'str'>\n"
     ]
    }
   ],
   "source": [
    "birth_year = input()\n",
    "print(type(birth_year))"
   ]
  },
  {
   "cell_type": "markdown",
   "metadata": {},
   "source": [
    "# Datatype Conversion"
   ]
  },
  {
   "cell_type": "code",
   "execution_count": 8,
   "metadata": {},
   "outputs": [
    {
     "name": "stdout",
     "output_type": "stream",
     "text": [
      "<class 'str'>\n",
      "<class 'int'>\n"
     ]
    }
   ],
   "source": [
    "x = \"55\" #x is a string\n",
    "print(type(x))\n",
    "y = int(x) #y is an integer\n",
    "print(type(y))"
   ]
  },
  {
   "cell_type": "code",
   "execution_count": 9,
   "metadata": {},
   "outputs": [
    {
     "name": "stdout",
     "output_type": "stream",
     "text": [
      "12\n",
      "<class 'int'>\n"
     ]
    }
   ],
   "source": [
    "# User input is converted into an integer\n",
    "height = int(input()) \n",
    "print(type(height))\n",
    "# The line above is an effective way to combine 2 instructions into one\n",
    "# height1 = input()\n",
    "# height2 = int(height1)"
   ]
  },
  {
   "cell_type": "markdown",
   "metadata": {},
   "source": [
    "# Examples of automatic data type conversion"
   ]
  },
  {
   "cell_type": "code",
   "execution_count": 1,
   "metadata": {},
   "outputs": [
    {
     "name": "stdout",
     "output_type": "stream",
     "text": [
      "2.5\n",
      "2\n",
      "4.5\n"
     ]
    }
   ],
   "source": [
    "x = 5 # integer\n",
    "y = 2 # integer\n",
    "z = x/y # float (implicit conversion)\n",
    "print(z)\n",
    "c=x//y\n",
    "print(c)\n",
    "a = 3 # integer\n",
    "b = 1.5 # float\n",
    "c = a + b # float\n",
    "print(c)"
   ]
  },
  {
   "cell_type": "markdown",
   "metadata": {},
   "source": [
    "🌟 you can change the data type of a value with int(), float() and str()\n",
    "\n",
    "🌟 there are implicit and explicit data type conversions in Python\n",
    "\n",
    "🌟 str(), int(), float() instructions are explicit conversions"
   ]
  },
  {
   "cell_type": "markdown",
   "metadata": {},
   "source": [
    "# Comparsion Opterations"
   ]
  },
  {
   "cell_type": "code",
   "execution_count": 11,
   "metadata": {},
   "outputs": [
    {
     "name": "stdout",
     "output_type": "stream",
     "text": [
      "False\n",
      "True\n",
      "False\n"
     ]
    }
   ],
   "source": [
    "print(30 < 25)\n",
    "print(5 < 9)\n",
    "print(50 > 100)"
   ]
  },
  {
   "cell_type": "code",
   "execution_count": 12,
   "metadata": {},
   "outputs": [
    {
     "name": "stdout",
     "output_type": "stream",
     "text": [
      "<class 'bool'>\n",
      "<class 'bool'>\n",
      "<class 'bool'>\n",
      "<class 'bool'>\n"
     ]
    }
   ],
   "source": [
    "print(type(5 < 9))\n",
    "print(type(50 > 100))\n",
    "print(type(True))\n",
    "print(type(False))"
   ]
  },
  {
   "cell_type": "markdown",
   "metadata": {},
   "source": [
    "# Logical Operators"
   ]
  },
  {
   "cell_type": "code",
   "execution_count": 13,
   "metadata": {},
   "outputs": [
    {
     "name": "stdout",
     "output_type": "stream",
     "text": [
      "False\n",
      "False\n",
      "True\n",
      "True\n"
     ]
    }
   ],
   "source": [
    "print(True and False)\n",
    "print(False and True)\n",
    "print(True or False)\n",
    "print(False or True)"
   ]
  },
  {
   "cell_type": "code",
   "execution_count": 3,
   "metadata": {},
   "outputs": [
    {
     "ename": "SyntaxError",
     "evalue": "invalid syntax (<ipython-input-3-dbb788d74aff>, line 4)",
     "output_type": "error",
     "traceback": [
      "\u001b[1;36m  File \u001b[1;32m\"<ipython-input-3-dbb788d74aff>\"\u001b[1;36m, line \u001b[1;32m4\u001b[0m\n\u001b[1;33m    print(light_on OR door_locked) #or\u001b[0m\n\u001b[1;37m                    ^\u001b[0m\n\u001b[1;31mSyntaxError\u001b[0m\u001b[1;31m:\u001b[0m invalid syntax\n"
     ]
    }
   ],
   "source": [
    "#letter case is not correct\n",
    "light_on = true #True\n",
    "door_locked = false #False\n",
    "print(light_on OR door_locked) #or\n",
    "print(light_on AND door_locked) #and"
   ]
  },
  {
   "cell_type": "code",
   "execution_count": 1,
   "metadata": {},
   "outputs": [
    {
     "name": "stdout",
     "output_type": "stream",
     "text": [
      "True\n",
      "False\n",
      "True\n",
      "False\n",
      "True\n",
      "True\n"
     ]
    }
   ],
   "source": [
    "print (5 == 5) # is 5 equal to 5?\n",
    "print (5 == 7) # is 5 equal to 7?\n",
    "print (5 != 7) # is 5 different from 7?\n",
    "print (5 != 5) # is 5 different from 5?\n",
    "print (5 <= 5) # is 5 less than or equal to 5?\n",
    "print (5 >= 5) # is 5 greater than or equal to 5?"
   ]
  },
  {
   "cell_type": "markdown",
   "metadata": {},
   "source": [
    "# Control Flow\n",
    "## For loop"
   ]
  },
  {
   "cell_type": "code",
   "execution_count": 5,
   "metadata": {},
   "outputs": [
    {
     "name": "stdout",
     "output_type": "stream",
     "text": [
      "Hello 0\n",
      "Hello 1\n",
      "Hello 2\n"
     ]
    }
   ],
   "source": [
    "#Define the number of iterations\n",
    "for i in range(3):\n",
    "    #0,1,2\n",
    "  #Statement that gets repeated\n",
    "  print(\"Hello \" + str(i))"
   ]
  },
  {
   "cell_type": "code",
   "execution_count": 13,
   "metadata": {},
   "outputs": [
    {
     "name": "stdout",
     "output_type": "stream",
     "text": [
      "0\n",
      "1\n",
      "2\n",
      "3\n",
      "4\n",
      "5\n",
      "6\n",
      "7\n",
      "8\n",
      "9\n"
     ]
    }
   ],
   "source": [
    "for i in range(int(\"10\")):\n",
    "  print(i)"
   ]
  },
  {
   "cell_type": "markdown",
   "metadata": {},
   "source": [
    "## While loop"
   ]
  },
  {
   "cell_type": "code",
   "execution_count": 6,
   "metadata": {},
   "outputs": [
    {
     "name": "stdout",
     "output_type": "stream",
     "text": [
      "Sell ticket\n",
      "Sell ticket\n",
      "Sell ticket\n",
      "Sell ticket\n",
      "Sell ticket\n"
     ]
    }
   ],
   "source": [
    "seats = 5 # initial number of seats\n",
    "while seats > 0: # seat available?\n",
    "  print(\"Sell ticket\") # ticket sold\n",
    "  seats = seats - 1 # number of seats updated"
   ]
  },
  {
   "cell_type": "markdown",
   "metadata": {},
   "source": [
    "# If else condition"
   ]
  },
  {
   "cell_type": "code",
   "execution_count": 1,
   "metadata": {},
   "outputs": [
    {
     "name": "stdout",
     "output_type": "stream",
     "text": [
      "Try again\n"
     ]
    }
   ],
   "source": [
    "guess = \"cat\"\n",
    "word = \"dog\"\n",
    "if guess == word:\n",
    "  print(\"Good one\")\n",
    "else:\n",
    "  print(\"Try again\")"
   ]
  },
  {
   "cell_type": "code",
   "execution_count": 2,
   "metadata": {},
   "outputs": [
    {
     "name": "stdout",
     "output_type": "stream",
     "text": [
      "Great job\n",
      "Level completed\n"
     ]
    }
   ],
   "source": [
    "score = 95\n",
    "if score > 90:\n",
    "  print(\"Great job\")\n",
    "  print(\"Level completed\")\n",
    "else:\n",
    "  print(\"Try again\")"
   ]
  },
  {
   "cell_type": "markdown",
   "metadata": {},
   "source": [
    "# List"
   ]
  },
  {
   "cell_type": "code",
   "execution_count": 20,
   "metadata": {},
   "outputs": [
    {
     "name": "stdout",
     "output_type": "stream",
     "text": [
      "['Hello', 'world', '!']\n",
      "Hello\n",
      "world\n",
      "!\n",
      "[[1, 2, 3], [4, 5, 6]]\n",
      "6\n"
     ]
    }
   ],
   "source": [
    "words = [\"Hello\", \"world\", \"!\"]\n",
    "print (words)\n",
    "print(words[0])\n",
    "print(words[1])\n",
    "print(words[2])\n",
    "\n",
    "# list with 2D grid\n",
    "m = [[1, 2, 3],[4, 5, 6]]\n",
    "print(m)\n",
    "print(m[1][2])"
   ]
  },
  {
   "cell_type": "code",
   "execution_count": null,
   "metadata": {},
   "outputs": [],
   "source": [
    "#list can hold multiple datatypes value at the same time\n",
    "things = [\"text\", 0, [1, 2, 8], 4.56]\n",
    "\n",
    "print(things[0])\n",
    "print(things[0][3])\n",
    "print(things[2][2])\n",
    "print(things[3])"
   ]
  },
  {
   "cell_type": "code",
   "execution_count": 29,
   "metadata": {},
   "outputs": [
    {
     "name": "stdout",
     "output_type": "stream",
     "text": [
      "w\n"
     ]
    }
   ],
   "source": [
    "#Indexed String like list\n",
    "str = \"Hello world!\"\n",
    "print(str[6:7])"
   ]
  },
  {
   "cell_type": "markdown",
   "metadata": {},
   "source": [
    "# List Slices\n",
    "List slices allow you to get a part of the list using two colon-separated indices."
   ]
  },
  {
   "cell_type": "code",
   "execution_count": 57,
   "metadata": {},
   "outputs": [
    {
     "name": "stdout",
     "output_type": "stream",
     "text": [
      "[4, 9, 16, 25]\n",
      "[9, 16, 25, 36, 49]\n",
      "[0, 4, 16, 36, 64]\n",
      "[4, 25]\n",
      "[9, 16, 25, 36, 49, 64, 81]\n",
      "[0, 1, 4, 9, 16, 25, 36]\n",
      "[1, 4, 9, 16, 25, 36, 49, 64]\n",
      "[64, 81]\n",
      "[49, 36]\n",
      "[81, 64, 49, 36, 25, 16, 9, 4, 1, 0]\n"
     ]
    }
   ],
   "source": [
    "squares = [0,1,4,9,16,25,36,49,64,81]\n",
    "print(squares[2:6]) # start index 2 and end index 6-1=5\n",
    "print(squares[3:8])\n",
    "print(squares[::2]) #interval of 2 (0,2,4,6,8)\n",
    "print(squares[2:8:3]) #start index 2, end index 8-1=7 and interval of 3 \n",
    "print(squares[3:]) #start from 3rd element\n",
    "print(squares[:7]) #ends at 7-1=6th element\n",
    "print(squares[1:-1]) # -1 last element of the list\n",
    "print(squares[-2:]) #starting from 2nd last element of the list\n",
    "print(squares[7:5:-1]) #Sp - 7th, Ep - 5+1=6th as -1 is reverse order\n",
    "print(squares[::-1]) #reversing the list"
   ]
  },
  {
   "cell_type": "markdown",
   "metadata": {},
   "source": [
    "# Functions"
   ]
  },
  {
   "cell_type": "markdown",
   "metadata": {},
   "source": [
    "## String Formatting\n",
    "Strings have a format() function, which enables values to be embedded in it, using placeholders."
   ]
  },
  {
   "cell_type": "code",
   "execution_count": 67,
   "metadata": {},
   "outputs": [
    {
     "name": "stdout",
     "output_type": "stream",
     "text": [
      "Numbers: 4 5 6 7\n",
      "abracadabra\n"
     ]
    }
   ],
   "source": [
    "nums = [4, 5, 6]\n",
    "msg = \"Numbers: {0} {1} {2} {3}\". format(nums[0], nums[1], nums[2], 7)\n",
    "print(msg)\n",
    "print(\"{0}{1}{0}\".format(\"abra\",\"cad\"))"
   ]
  },
  {
   "cell_type": "code",
   "execution_count": 68,
   "metadata": {},
   "outputs": [
    {
     "name": "stdout",
     "output_type": "stream",
     "text": [
      "5, 12\n"
     ]
    }
   ],
   "source": [
    "#You can also name the placeholders, instead of the index numbers.\n",
    "a = \"{x}, {y}\".format(x=5, y=12)\n",
    "print(a)"
   ]
  },
  {
   "cell_type": "code",
   "execution_count": 73,
   "metadata": {},
   "outputs": [
    {
     "name": "stdout",
     "output_type": "stream",
     "text": [
      "spam, eggs, ham\n"
     ]
    }
   ],
   "source": [
    "#join() joins a list of strings with another string as a separator.\n",
    "x = \", \".join([\"spam\", \"eggs\", \"ham\"])\n",
    "print(x)"
   ]
  },
  {
   "cell_type": "code",
   "execution_count": 74,
   "metadata": {},
   "outputs": [
    {
     "name": "stdout",
     "output_type": "stream",
     "text": [
      "['some', 'text', 'goes', 'here']\n"
     ]
    }
   ],
   "source": [
    "#split() is the opposite of join(). It turns a string with a certain separator into a list.\n",
    "str = \"some text goes here\"\n",
    "x = str.split(' ')\n",
    "print(x)"
   ]
  },
  {
   "cell_type": "code",
   "execution_count": 76,
   "metadata": {},
   "outputs": [
    {
     "name": "stdout",
     "output_type": "stream",
     "text": [
      "Hello world\n"
     ]
    }
   ],
   "source": [
    "#replace() replaces one substring in a string with another.\n",
    "x = \"Hello ME\"\n",
    "print(x.replace(\"ME\", \"world\")) # ME is repalced by world"
   ]
  },
  {
   "cell_type": "code",
   "execution_count": 77,
   "metadata": {},
   "outputs": [
    {
     "name": "stdout",
     "output_type": "stream",
     "text": [
      "THIS IS A SENTENCE.\n",
      "an all caps sentence\n"
     ]
    }
   ],
   "source": [
    "#lower() and upper() change the case of a string to lowercase and uppercase.\n",
    "print(\"This is a sentence.\".upper())\n",
    "\n",
    "print(\"AN ALL CAPS SENTENCE\".lower())"
   ]
  },
  {
   "cell_type": "code",
   "execution_count": 2,
   "metadata": {},
   "outputs": [
    {
     "name": "stdout",
     "output_type": "stream",
     "text": [
      "y\n"
     ]
    }
   ],
   "source": [
    "str=\"new york\" #max of alphabet of string\n",
    "print(max(str))"
   ]
  },
  {
   "cell_type": "markdown",
   "metadata": {},
   "source": [
    "# Make Function By Yourself"
   ]
  },
  {
   "cell_type": "code",
   "execution_count": 3,
   "metadata": {},
   "outputs": [
    {
     "name": "stdout",
     "output_type": "stream",
     "text": [
      "Hello world!\n"
     ]
    }
   ],
   "source": [
    "def hello():\n",
    "  print(\"Hello world!\")\n",
    "\n",
    "hello()"
   ]
  },
  {
   "cell_type": "code",
   "execution_count": 6,
   "metadata": {},
   "outputs": [
    {
     "name": "stdout",
     "output_type": "stream",
     "text": [
      "spam!\n",
      "eggs!\n",
      "python!\n",
      "40\n"
     ]
    }
   ],
   "source": [
    "# Function with arguments\n",
    "def exclamation(word):\n",
    "  print(word + \"!\")\n",
    "\n",
    "exclamation(\"spam\")\n",
    "exclamation(\"eggs\")\n",
    "exclamation(\"python\")\n",
    "\n",
    "def print_mult(x, y):\n",
    "  print(x * y)\n",
    "\n",
    "print_mult(5, 8)"
   ]
  },
  {
   "cell_type": "code",
   "execution_count": 9,
   "metadata": {},
   "outputs": [
    {
     "name": "stdout",
     "output_type": "stream",
     "text": [
      "49\n",
      "Nope\n"
     ]
    }
   ],
   "source": [
    "# Returning from Functions\n",
    "def sum(x, y):\n",
    "  return x+y\n",
    "\n",
    "res = sum(42, 7)\n",
    "print(res)\n",
    "\n",
    "# Function with conditions\n",
    "def max(x, y):\n",
    "  if x >=y:\n",
    "    return x\n",
    "  else:\n",
    "    return y\n",
    "\n",
    "if max(6, 4) > 10:\n",
    "  print(\"Yes\")\n",
    "else:\n",
    "  print(\"Nope\")"
   ]
  },
  {
   "cell_type": "markdown",
   "metadata": {},
   "source": [
    "# Docstrings\n",
    "Docstrings (documentation strings) are similar to comments, in that they’re designed to explain code. But, they’re more specific and have a different syntax."
   ]
  },
  {
   "cell_type": "code",
   "execution_count": 12,
   "metadata": {},
   "outputs": [
    {
     "name": "stdout",
     "output_type": "stream",
     "text": [
      "spam!\n"
     ]
    }
   ],
   "source": [
    "def shout(word):\n",
    "    \"\"\"\n",
    "    Print a word with an\n",
    "    exclamation mark following it.\n",
    "    \"\"\"\n",
    "    print(word + \"!\")\n",
    "\n",
    "shout(\"spam\")"
   ]
  },
  {
   "cell_type": "code",
   "execution_count": 13,
   "metadata": {},
   "outputs": [
    {
     "name": "stdout",
     "output_type": "stream",
     "text": [
      "0\n"
     ]
    }
   ],
   "source": [
    "\n",
    "def print_nums(x):\n",
    "\n",
    "  for i in range(x):\n",
    "\n",
    "    print(i)\n",
    "\n",
    "    return\n",
    "\n",
    "print_nums(10)"
   ]
  },
  {
   "cell_type": "markdown",
   "metadata": {},
   "source": [
    "# Search Engine\n",
    "You’re working on a search engine. Watch your back Google!\n",
    "The given code takes a text and a word as input and passes them to a function called search().\n",
    "The search() function should return \"Word found\" if the word is present in the text, or \"Word not found\", if it’s not.\n",
    "Sample Input\n",
    "\n",
    "\"This is awesome\"\n",
    "\n",
    "\"awesome\"\n",
    "\n",
    "Sample Output\n",
    "\n",
    "Word found"
   ]
  },
  {
   "cell_type": "code",
   "execution_count": 14,
   "metadata": {},
   "outputs": [
    {
     "name": "stdout",
     "output_type": "stream",
     "text": [
      "Miss World\n",
      "Miss\n",
      "Word found\n"
     ]
    }
   ],
   "source": [
    "text = input()\n",
    "word = input()\n",
    "\n",
    "def search(text, word):\n",
    "    text_list=text.split(\" \")\n",
    "    if text_list.count(word)>0:\n",
    "        return \"Word found\"\n",
    "    else:\n",
    "        return \"Word not found\"\n",
    "\n",
    "print(search(text, word))"
   ]
  }
 ],
 "metadata": {
  "kernelspec": {
   "display_name": "Python 3 (ipykernel)",
   "language": "python",
   "name": "python3"
  },
  "language_info": {
   "codemirror_mode": {
    "name": "ipython",
    "version": 3
   },
   "file_extension": ".py",
   "mimetype": "text/x-python",
   "name": "python",
   "nbconvert_exporter": "python",
   "pygments_lexer": "ipython3",
   "version": "3.12.3"
  }
 },
 "nbformat": 4,
 "nbformat_minor": 4
}
