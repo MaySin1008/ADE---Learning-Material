{
 "cells": [
  {
   "cell_type": "markdown",
   "metadata": {},
   "source": [
    "# Working with Files"
   ]
  },
  {
   "cell_type": "markdown",
   "metadata": {},
   "source": [
    "### Opening Files"
   ]
  },
  {
   "cell_type": "markdown",
   "metadata": {},
   "source": [
    "You can use Python to read and write the contents of **files**.\n",
    "\n",
    "This is particularly useful when you need to work with a lot of data that is saved in a file. \n",
    "\n",
    "For example, in data science and analytics, the data is commonly in **CSV** (comma-separated values) files."
   ]
  },
  {
   "cell_type": "code",
   "execution_count": 2,
   "metadata": {},
   "outputs": [
    {
     "name": "stdout",
     "output_type": "stream",
     "text": [
      "Hello world\n",
      "This is a text file\n",
      "readme!!!\n"
     ]
    }
   ],
   "source": [
    "myfile= open(\"fileName.txt\")\n",
    "print(myfile.read())\n",
    "#The argument of the open function is the path\n",
    "#to the file. If the file is in the current \n",
    "#working directory of the program,\n",
    "#you can specify only its name."
   ]
  },
  {
   "cell_type": "markdown",
   "metadata": {},
   "source": [
    "You can specify the **mode** used to open a file by applying a second argument to the **open** function.\n",
    "\n",
    "Sending \"r\" means open in read mode, which is the default. \n",
    "\n",
    "Sending \"w\" means write mode, for rewriting the contents of a file.\n",
    "\n",
    "Sending \"a\" means append mode, for adding new content to the end of the file.\n",
    "\n",
    "Adding \"b\" to a mode opens it in **binary** mode, which is used for non-text files (such as image and sound files).\n",
    "\n",
    "You can combine modes, for example, **wb** from the code above opens the file in **binary write** mode.\n",
    "\n",
    "wb, rb, ab"
   ]
  },
  {
   "cell_type": "code",
   "execution_count": 7,
   "metadata": {},
   "outputs": [
    {
     "data": {
      "text/plain": [
       "<_io.BufferedWriter name='filename.txt'>"
      ]
     },
     "execution_count": 7,
     "metadata": {},
     "output_type": "execute_result"
    }
   ],
   "source": [
    "# write mode\n",
    "#open(\"filename.txt\", \"w\")\n",
    "\n",
    "# read mode\n",
    "open(\"filename.txt\", \"r\")\n",
    "open(\"filename.txt\")\n",
    "\n",
    "# binary write mode\n",
    "#open(\"filename.txt\", \"wb\")"
   ]
  },
  {
   "cell_type": "markdown",
   "metadata": {},
   "source": [
    "Once a file has been opened and used, you should close it.\n",
    "\n",
    "This is done with the close method of the file object. "
   ]
  },
  {
   "cell_type": "code",
   "execution_count": 3,
   "metadata": {},
   "outputs": [],
   "source": [
    "file = open(\"filename.txt\", \"w\")\n",
    "# do stuff to the file\n",
    "file.close()"
   ]
  },
  {
   "cell_type": "markdown",
   "metadata": {},
   "source": [
    "### Reading Files \n",
    " \n",
    "The contents of a file that has been opened in text mode can be read using the **read** method. \n",
    "\n",
    "To read only a certain amount of a file, you can provide the number of bytes to read as an argument to the **read** function.\n",
    "\n",
    "Each ASCII character is 1 **byte**:\n",
    "\n",
    "This will read the first 5 characters of the file, then the next 7."
   ]
  },
  {
   "cell_type": "code",
   "execution_count": 10,
   "metadata": {},
   "outputs": [
    {
     "name": "stdout",
     "output_type": "stream",
     "text": [
      "Hello\n",
      " world\n",
      "\n",
      "This is a text file\n",
      "readme!!!\n"
     ]
    }
   ],
   "source": [
    "file = open(\"filename.txt\", \"r\")\n",
    "#cont = file.read()\n",
    "#print(cont)\n",
    "\n",
    "print(file.read(5))\n",
    "print(file.read(7))\n",
    "print(file.read())\n",
    "file.close()"
   ]
  },
  {
   "cell_type": "code",
   "execution_count": 11,
   "metadata": {
    "collapsed": true
   },
   "outputs": [
    {
     "name": "stdout",
     "output_type": "stream",
     "text": [
      "Hell\n",
      "o wo\n",
      "rld\n",
      "\n",
      "This\n",
      " is \n",
      "a te\n",
      "xt f\n",
      "ile\n",
      "\n",
      "read\n",
      "me!!\n",
      "!\n",
      "\n",
      "\n",
      "\n",
      "\n",
      "\n",
      "\n",
      "\n",
      "\n",
      "\n",
      "\n"
     ]
    }
   ],
   "source": [
    "file = open(\"filename.txt\", \"r\")\n",
    "for i in range(21):\n",
    "  print(file.read(4))\n",
    "file.close()"
   ]
  },
  {
   "cell_type": "markdown",
   "metadata": {},
   "source": [
    "To retrieve each line in a file, you can use the **readlines()** method to return a list in which each element is a line in the file."
   ]
  },
  {
   "cell_type": "code",
   "execution_count": 13,
   "metadata": {},
   "outputs": [
    {
     "name": "stdout",
     "output_type": "stream",
     "text": [
      "Hello world\n",
      "\n",
      "This is a text file\n",
      "\n",
      "readme!!!\n"
     ]
    }
   ],
   "source": [
    "file = open(\"filename.txt\")\n",
    "for line in file.readlines():\n",
    "    print(line)\n",
    "file.close()"
   ]
  },
  {
   "cell_type": "code",
   "execution_count": 18,
   "metadata": {},
   "outputs": [
    {
     "name": "stdout",
     "output_type": "stream",
     "text": [
      "['Hello world\\n', 'This is a text file\\n', 'readme!!!']\n",
      "Hello world\n",
      "\n"
     ]
    }
   ],
   "source": [
    "file= open(\"filename.txt\")\n",
    "cont=file.readlines()\n",
    "print(cont)\n",
    "print(cont[0])\n",
    "file.close()"
   ]
  },
  {
   "cell_type": "markdown",
   "metadata": {},
   "source": [
    "### Writing Files \n",
    "\n",
    "To write to files you use the **write** method.\n",
    "\n",
    "- In case the file already exists, its entire content will be replaced when you open it in write mode using \"w\".\n",
    "\n",
    "- If you want to add content to an existing file, you can open it using the **\"a\"** mode, which stand for \"append\": \n",
    "\n",
    "- The **write** method returns the number of **bytes** written to a file, if successful.\n",
    "\n",
    "- To write something other than a string, it needs to be converted to a string first."
   ]
  },
  {
   "cell_type": "code",
   "execution_count": 23,
   "metadata": {},
   "outputs": [
    {
     "name": "stdout",
     "output_type": "stream",
     "text": [
      "31\n",
      "This has been written to a file\n",
      "\n",
      "\n",
      "This has been written to a file\n",
      "The Da Vinci Code\n"
     ]
    }
   ],
   "source": [
    "file=open(\"filename1.txt\", \"w\")\n",
    "amount_written=file.write(\"This has been written to a file\")\n",
    "print(amount_written)\n",
    "file.close()\n",
    "\n",
    "file=open(\"filename1.txt\",\"r\")\n",
    "print(file.read())\n",
    "file.close()\n",
    "print(\"\\n\")\n",
    "file=open(\"filename1.txt\",\"a\")\n",
    "file.write(\"\\nThe Da Vinci Code\") #\\n stands for a new line\n",
    "file.close()\n",
    "\n",
    "file=open(\"filename1.txt\",\"r\")\n",
    "print(file.read())\n",
    "file.close()"
   ]
  },
  {
   "cell_type": "code",
   "execution_count": 24,
   "metadata": {},
   "outputs": [
    {
     "name": "stdout",
     "output_type": "stream",
     "text": [
      "3\n",
      "\n",
      "1\n",
      "2\n",
      "3\n"
     ]
    }
   ],
   "source": [
    "#Take a number N as input and write the \n",
    "#numbers 1 to N to the file \"numbers.txt\", \n",
    "#each number on a separate line.\n",
    "\n",
    "n = int(input())\n",
    "\n",
    "file = open(\"numbers.txt\", \"w+\")\n",
    "for i in range(1,n+1):\n",
    "    file.write(f\"\\n{str(i)}\")\n",
    "file.close()\n",
    "\n",
    "f = open(\"numbers.txt\", \"r\")\n",
    "print(f.read())\n",
    "f.close()"
   ]
  },
  {
   "cell_type": "markdown",
   "metadata": {},
   "source": [
    "### Working with Files \n",
    "\n",
    "It is good practice to avoid wasting resources by making sure that files are always closed after they have been used. One way of doing this is to use **try** and **finally**."
   ]
  },
  {
   "cell_type": "code",
   "execution_count": 26,
   "metadata": {},
   "outputs": [
    {
     "name": "stdout",
     "output_type": "stream",
     "text": [
      "\n",
      "1\n",
      "2\n",
      "3\n"
     ]
    }
   ],
   "source": [
    "try:\n",
    "  f = open(\"numbers.txt\")\n",
    "  cont = f.read()\n",
    "  print(cont)\n",
    "finally:\n",
    " f.close()"
   ]
  },
  {
   "cell_type": "markdown",
   "metadata": {},
   "source": [
    "#### With\n",
    "\n",
    "An alternative way of doing this is by using **with** statements.This creates a temporary variable (often called **f**),  which is only accessible in the indented block of the **with** statement.\n",
    "\n",
    "The file is automatically closed at the end of the **with** statement, even if exceptions occur within it.\n",
    "\n"
   ]
  },
  {
   "cell_type": "code",
   "execution_count": 28,
   "metadata": {},
   "outputs": [
    {
     "name": "stdout",
     "output_type": "stream",
     "text": [
      "\n",
      "1\n",
      "2\n",
      "3\n"
     ]
    }
   ],
   "source": [
    "with open(\"numbers.txt\") as f:\n",
    "    print(f.read())"
   ]
  },
  {
   "cell_type": "code",
   "execution_count": 33,
   "metadata": {},
   "outputs": [
    {
     "name": "stdout",
     "output_type": "stream",
     "text": [
      "Line 1: 2 words\n",
      "Line 2: 5 words\n",
      "Line 3: 1 words\n"
     ]
    }
   ],
   "source": [
    "with open(\"filename.txt\") as f:\n",
    "   for i,line in enumerate(f.readlines(),1):\n",
    "      words=line.split() #The split() method without arguments splits the line by whitespace (including spaces and tabs).\n",
    "      print(f\"Line {i}: {len(words)} words\")"
   ]
  },
  {
   "cell_type": "code",
   "execution_count": 50,
   "metadata": {},
   "outputs": [
    {
     "name": "stdout",
     "output_type": "stream",
     "text": [
      "Line 1: 2 words\n",
      "Line 2: 5 words\n",
      "Line 3: 1 words\n"
     ]
    }
   ],
   "source": [
    "with open(\"filename.txt\", \"r\") as f:\n",
    "    word_counts = list(map(lambda x: (x[0], len(x[1].split())), enumerate(f, 1)))\n",
    "    for i, count in word_counts:\n",
    "        print(f\"Line {i}: {count} words\")"
   ]
  },
  {
   "cell_type": "code",
   "execution_count": null,
   "metadata": {},
   "outputs": [],
   "source": []
  }
 ],
 "metadata": {
  "kernelspec": {
   "display_name": "Python 3",
   "language": "python",
   "name": "python3"
  },
  "language_info": {
   "codemirror_mode": {
    "name": "ipython",
    "version": 3
   },
   "file_extension": ".py",
   "mimetype": "text/x-python",
   "name": "python",
   "nbconvert_exporter": "python",
   "pygments_lexer": "ipython3",
   "version": "3.7.3"
  }
 },
 "nbformat": 4,
 "nbformat_minor": 2
}
