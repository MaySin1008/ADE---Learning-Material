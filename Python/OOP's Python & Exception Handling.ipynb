{
 "cells": [
  {
   "cell_type": "markdown",
   "metadata": {},
   "source": [
    "## Classes \n",
    "The focal point of __Object Oriented Programming (OOP)__ are __objects__, which are created using __classes__.\n",
    "\n",
    "The class describes what the object will be, but is separate from the object itself. In other words, a class can be described as an object's blueprint, description, or definition.\n",
    "Classes are created using the keyword class and an indented block, which contains class methods (which are functions). \n",
    "\n",
    "### __init__ \n",
    "The __init__ method is the most important method in a class. \n",
    "\n",
    "The __init__ method is called the class __constructor__.\n",
    "\n",
    "This is called when an instance (object) of the class is created, using the class name as a function.\n",
    "\n",
    "All methods must have self as their first parameter, although it isn't explicitly passed, Python adds the self argument to the list for you; you do not need to include it when you call the methods. Within a method definition, self refers to the instance calling the method.\n",
    "\n",
    "Instances of a class have __attributes__, which are pieces of data associated with them.\n",
    "\n",
    "### Methods \n",
    "Classes can have other __methods__ defined to add functionality to them. \n",
    "\n",
    "Remember, that all methods must have __self__ as their first parameter.\n",
    "\n",
    "These methods are accessed using the same __dot__ syntax as attributes."
   ]
  },
  {
   "cell_type": "code",
   "execution_count": 2,
   "metadata": {},
   "outputs": [],
   "source": [
    "class Cat:\n",
    "    def __init__(self, color, legs):\n",
    "        self.color = color\n",
    "        self.legs = legs\n",
    "    \n",
    "\n",
    "felix = Cat(\"ginger\", 4)\n",
    "rover = Cat(\"dog-colored\", 4)\n",
    "stumpy = Cat(\"brown\", 3)"
   ]
  },
  {
   "cell_type": "code",
   "execution_count": 3,
   "metadata": {},
   "outputs": [
    {
     "name": "stdout",
     "output_type": "stream",
     "text": [
      "The is Black and bread is PitBull\n"
     ]
    }
   ],
   "source": [
    "class Dog:\n",
    "    def __init__(self,color,bread):\n",
    "        self.color=color\n",
    "        self.bread=bread\n",
    "    \n",
    "    def display(self):\n",
    "        print(f'The is {self.color} and bread is {self.bread}')\n",
    "\n",
    "tomy=Dog(\"Black\",\"PitBull\")\n",
    "tomy.display()"
   ]
  },
  {
   "cell_type": "code",
   "execution_count": 15,
   "metadata": {},
   "outputs": [
    {
     "name": "stdout",
     "output_type": "stream",
     "text": [
      "Mayank\n",
      "2\n",
      "Mayank (Level 2)\n"
     ]
    }
   ],
   "source": [
    "#You are making a video game! The given code declares a Player class,\n",
    "#with its attributes and an intro() method.\n",
    "\n",
    "#Complete the code to take the name and level from user input,\n",
    "#create a Player object with the corresponding values and\n",
    "#call the intro() method of that object.\n",
    "class Player:\n",
    "    def __init__(self, name, level):\n",
    "        self.name = name\n",
    "        self.level = level\n",
    "\n",
    "    def intro(self):\n",
    "        print(self.name + \" (Level \" + self.level + \")\")\n",
    "\n",
    "name=str(input())\n",
    "level=str(input())\n",
    "\n",
    "Player1=Player(name,level)\n",
    "Player1.intro()"
   ]
  },
  {
   "cell_type": "markdown",
   "metadata": {},
   "source": [
    "## Inheritance \n",
    "__Inheritance__ provides a way to share functionality between classes. \n",
    "\n",
    "Imagine several classes, __Cat, Dog, Rabbit__ and so on. Although they may differ in some ways (only Dog might have the method bark), they are likely to be similar in others (all having the attributes __color__ and __name__). \n",
    "\n",
    "This similarity can be expressed by making them all inherit from a __superclass Animal__, which contains the shared functionality. \n",
    "\n",
    "To inherit a class from another class, put the superclass name in parentheses after the class name.\n",
    "\n",
    "A class that inherits from another class is called a __subclass__.\n",
    "\n",
    "A class that is inherited from is called a __superclass__.\n",
    "\n",
    "If a class inherits from another with the same attributes or methods, it overrides them. __Child class will Override Parent class__"
   ]
  },
  {
   "cell_type": "code",
   "execution_count": 16,
   "metadata": {},
   "outputs": [
    {
     "name": "stdout",
     "output_type": "stream",
     "text": [
      "Woff!\n",
      "Purr...\n"
     ]
    }
   ],
   "source": [
    "class Animal:\n",
    "    def __init__(self,name,color):\n",
    "        self.name=name\n",
    "        self.color=color\n",
    "\n",
    "class Cat(Animal):\n",
    "    def purr(self):\n",
    "        print(\"Purr...\")\n",
    "\n",
    "class Dog(Animal):\n",
    "    def bark(self):\n",
    "        print(\"Woff!\")\n",
    "\n",
    "Dog1=Dog(\"Tomy\",\"Golden\")\n",
    "Dog1.bark()\n",
    "Cat1=Cat(\"Kitee\",\"Snow White\")\n",
    "Cat1.purr()"
   ]
  },
  {
   "cell_type": "markdown",
   "metadata": {},
   "source": [
    "### Super()\n",
    "The function __super__ is a useful inheritance-related function that refers to the parent class. It can be used to find the method with a certain name in an __object's superclass__."
   ]
  },
  {
   "cell_type": "code",
   "execution_count": 12,
   "metadata": {},
   "outputs": [
    {
     "name": "stdout",
     "output_type": "stream",
     "text": [
      "2\n",
      "1\n"
     ]
    }
   ],
   "source": [
    "class A:\n",
    "    def spam(self):\n",
    "        print(1)\n",
    "class B(A):\n",
    "    def spam(self):\n",
    "        print(2)\n",
    "        super().spam() #super().spam() calls the spam method of the superclass.\n",
    "\n",
    "B().spam()"
   ]
  },
  {
   "cell_type": "code",
   "execution_count": 19,
   "metadata": {},
   "outputs": [
    {
     "name": "stdout",
     "output_type": "stream",
     "text": [
      "23\n",
      "2\n",
      "46\n",
      "50\n"
     ]
    }
   ],
   "source": [
    "class Shape: \n",
    "    def __init__(self, w, h):\n",
    "        self.width = w\n",
    "        self.height = h\n",
    "\n",
    "    def area(self):\n",
    "        print(self.width*self.height)\n",
    "\n",
    "class Rectangle(Shape):\n",
    "    def perimeter(self):\n",
    "        print(2*(self.width + self.height))\n",
    "    \n",
    "\n",
    "w = int(input())\n",
    "h = int(input())\n",
    "\n",
    "r = Rectangle(w, h)\n",
    "r.area()\n",
    "r.perimeter()"
   ]
  },
  {
   "cell_type": "markdown",
   "metadata": {},
   "source": [
    "## Magic Methods \n",
    " \n",
    "\n",
    "__Magic methods__ are special methods which have __double underscores__ at the beginning and end of their names. \n",
    "\n",
    "They are also known as __dunders__.\n",
    "\n",
    "One common use of them is __operator overloading__. \n",
    "\n",
    "This means defining operators for custom classes that allow operators such as + and * to be used on them.\n",
    "\n",
    "An example magic method is __add__ for +. "
   ]
  },
  {
   "cell_type": "code",
   "execution_count": 20,
   "metadata": {},
   "outputs": [
    {
     "name": "stdout",
     "output_type": "stream",
     "text": [
      "5\n",
      "10\n"
     ]
    }
   ],
   "source": [
    "class Vector2D:\n",
    "    def __init__(self,x,y):\n",
    "        self.x=x\n",
    "        self.y=y\n",
    "    def __add__(self,other):#The __add__ method allows for the definition of a custom behavior for the + operator in our class.\n",
    "        return Vector2D(self.x+other.x,self.y+other.y)\n",
    "first =Vector2D(2,4)\n",
    "second =Vector2D(3,6)\n",
    "result=first + second \n",
    "print(result.x)\n",
    "print(result.y)"
   ]
  },
  {
   "cell_type": "markdown",
   "metadata": {},
   "source": [
    "### More magic methods for common operators:\n",
    "\n",
    "__sub__ for -\n",
    "\n",
    "__mul__ for *\n",
    "\n",
    "__truediv__ for /\n",
    "\n",
    "__floordiv__ for //\n",
    "\n",
    "__mod__ for %\n",
    "\n",
    "__pow__ for **\n",
    "\n",
    "__and__ for &\n",
    "\n",
    "__xor__ for ^\n",
    "\n",
    "__or__ for |\n",
    "\n",
    "The expression x + y is translated into x.__add__(y). \n",
    "\n",
    "However, if x hasn't implemented __add__, and x and y are of different types, then y.__radd__(x) is called. \n",
    "\n",
    "There are equivalent r methods for all magic methods just mentioned.\n",
    "\n",
    "### Python also provides magic methods for comparisons.\n",
    "\n",
    "__lt__ for <\n",
    "\n",
    "__le__ for <=\n",
    "\n",
    "__eq__ for ==\n",
    "\n",
    "__ne__ for !=\n",
    "\n",
    "__gt__ for >\n",
    "\n",
    "__ge__ for >=\n",
    "\n",
    " If __ne__ is not implemented, it returns the opposite of __eq__. \n",
    "\n",
    "There are no other relationships between the other operators.\n"
   ]
  },
  {
   "cell_type": "code",
   "execution_count": 13,
   "metadata": {},
   "outputs": [
    {
     "name": "stdout",
     "output_type": "stream",
     "text": [
      ">spam>eggs\n",
      "e>spam>ggs\n",
      "eg>spam>gs\n",
      "egg>spam>s\n",
      "eggs>spam>\n"
     ]
    }
   ],
   "source": [
    "class SpecialString:\n",
    "    def __init__(self, cont):\n",
    "        self.cont = cont\n",
    "\n",
    "    def __gt__(self, other):\n",
    "        for index in range(len(other.cont)+1):\n",
    "            result = other.cont[:index] + \">\" + self.cont\n",
    "            result += \">\" + other.cont[index:]\n",
    "        print(result)\n",
    "\n",
    "spam = SpecialString(\"spam\")\n",
    "eggs = SpecialString(\"eggs\")\n",
    "spam > eggs"
   ]
  },
  {
   "cell_type": "markdown",
   "metadata": {},
   "source": [
    "### Operator Overloading \n",
    "We are improving our drawing application.\n",
    "\n",
    "Our application needs to support adding and comparing two Shape objects. \n",
    "\n",
    "Add the corresponding methods to enable addition + and comparison using the greater than > operator for the Shape class.\n",
    "\n",
    "The addition should return a new object with the sum of the widths and heights of the operands, while the comparison should return the result of comparing the areas of the objects."
   ]
  },
  {
   "cell_type": "code",
   "execution_count": 14,
   "metadata": {},
   "outputs": [
    {
     "name": "stdout",
     "output_type": "stream",
     "text": [
      "23\n",
      "34\n",
      "43\n",
      "12\n",
      "3036\n",
      "True\n"
     ]
    }
   ],
   "source": [
    "class Shape: \n",
    "    def __init__(self, w, h):\n",
    "        self.width = w\n",
    "        self.height = h\n",
    "\n",
    "    def area(self):\n",
    "        return self.width*self.height\n",
    "\n",
    "    def __add__(self, other):\n",
    "        return Shape(self.width + other.width, self.height + other.height)\n",
    "    \n",
    "    def __gt__(self,other):\n",
    "        return self.area() > other.area()\n",
    "    \n",
    "\n",
    "w1 = int(input())\n",
    "h1 = int(input())\n",
    "w2 = int(input())\n",
    "h2 = int(input())\n",
    "\n",
    "s1 = Shape(w1, h1)\n",
    "s2 = Shape(w2, h2)\n",
    "result = s1 + s2\n",
    "\n",
    "print(result.area())\n",
    "print(s1 > s2)\n"
   ]
  },
  {
   "cell_type": "markdown",
   "metadata": {},
   "source": [
    "### There are several magic methods for making classes act like containers.\n",
    "\n",
    "__len__ for len()\n",
    "\n",
    "__getitem__ for indexing\n",
    "\n",
    "__setitem__ for assigning to indexed values\n",
    "\n",
    "__delitem__ for deleting indexed values\n",
    "\n",
    "__iter__ for iteration over objects (e.g., in for loops)\n",
    "\n",
    "__contains__ for in\n",
    "\n",
    "There are many other magic methods that we won't cover here, such as __call__ for calling objects as functions, and __int__, __str__, and the like, for converting objects to built-in types."
   ]
  },
  {
   "cell_type": "code",
   "execution_count": 25,
   "metadata": {},
   "outputs": [
    {
     "name": "stdout",
     "output_type": "stream",
     "text": [
      "0\n",
      "0\n",
      "C\n",
      "B\n"
     ]
    }
   ],
   "source": [
    "import random\n",
    "\n",
    "class VagueList:\n",
    "    def __init__(self, cont):\n",
    "        self.cont = cont\n",
    "\n",
    "    def __getitem__(self, index):\n",
    "        return self.cont[index + random.randint(-1, 1)]\n",
    "\n",
    "    def __len__(self):\n",
    "        return random.randint(0, len(self.cont)*2)\n",
    "\n",
    "vague_list = VagueList([\"A\", \"B\", \"C\", \"D\", \"E\"])\n",
    "print(len(vague_list))\n",
    "print(len(vague_list))\n",
    "print(vague_list[2])\n",
    "print(vague_list[2])\n",
    "\n",
    "#We have overridden the len() function for the class VagueList to return a random number.\n",
    "\n",
    "#The indexing function also returns a random item in a range from the list, based on the expression."
   ]
  },
  {
   "cell_type": "markdown",
   "metadata": {},
   "source": [
    "## Data Hiding\n",
    "A key part of object-oriented programming is encapsulation, which involves packaging of related variables and functions into a single easy-to-use object -- an instance of a class.\n",
    "\n",
    "Implementation details of a class should be hidden, and a clean standard interface be presented for those who want to use the class. \n",
    "\n",
    "In other programming languages, this is usually done with private methods and attributes, which block external access to certain methods and attributes in a class.\n",
    "\n",
    "The Python philosophy is slightly different. It is often stated as \"we are all consenting adults here\", meaning that you shouldn't put arbitrary restrictions on accessing parts of a class. Hence there are no ways of enforcing that a method or attribute be strictly private. \n",
    "\n",
    "the attribute _hiddenlist is marked as private, but it can still be accessed in the outside code.\n",
    "\n",
    "The __repr__ magic method is used for string representation of the instance."
   ]
  },
  {
   "cell_type": "code",
   "execution_count": 15,
   "metadata": {},
   "outputs": [
    {
     "name": "stdout",
     "output_type": "stream",
     "text": [
      "Queue([1, 2, 3])\n",
      "Queue([0, 1, 2, 3])\n",
      "Queue([0, 1, 2])\n",
      "[0, 1, 2]\n"
     ]
    }
   ],
   "source": [
    "class Queue:\n",
    "    def __init__(self, contents):\n",
    "        self._hiddenlist = list(contents)\n",
    "\n",
    "    def push(self, value):\n",
    "        self._hiddenlist.insert(0, value)\n",
    "\n",
    "    def pop(self):\n",
    "        return self._hiddenlist.pop(-1)\n",
    "\n",
    "    def __repr__(self):\n",
    "        return \"Queue({})\".format(self._hiddenlist)\n",
    "\n",
    "queue = Queue([1, 2, 3])\n",
    "print(queue)\n",
    "queue.push(0)\n",
    "print(queue)\n",
    "queue.pop()\n",
    "print(queue)\n",
    "print(queue._hiddenlist)  #Private attribute of class Queue"
   ]
  },
  {
   "cell_type": "markdown",
   "metadata": {},
   "source": [
    "## Weakly private vs Strongly private\n",
    "\n",
    "__Weakly private__ methods and attributes have a __single underscore__ at the beginning.\n",
    "\n",
    "- This signals that they are private, and shouldn't be used by external code. However, it is mostly only a convention, and does not stop external code from accessing them.\n",
    "\n",
    "__Strongly private__ methods and attributes have a __double underscore__ at the beginning of their names. \n",
    "\n",
    "- This causes their names to be mangled, which means that they can't be accessed from outside the class. \n",
    "\n",
    "- Name mangled methods can still be accessed externally, but by a different name. The method **__privatemethod** of class Spam could be accessed externally with **_Spam**__**privatemethod**."
   ]
  },
  {
   "cell_type": "code",
   "execution_count": 1,
   "metadata": {
    "collapsed": true,
    "jupyter": {
     "outputs_hidden": true
    }
   },
   "outputs": [
    {
     "name": "stdout",
     "output_type": "stream",
     "text": [
      "7\n",
      "7\n"
     ]
    },
    {
     "ename": "AttributeError",
     "evalue": "'Spam' object has no attribute '__egg'",
     "output_type": "error",
     "traceback": [
      "\u001b[1;31m---------------------------------------------------------------------------\u001b[0m",
      "\u001b[1;31mAttributeError\u001b[0m                            Traceback (most recent call last)",
      "\u001b[1;32m<ipython-input-1-316d40a74b21>\u001b[0m in \u001b[0;36m<module>\u001b[1;34m\u001b[0m\n\u001b[0;32m      7\u001b[0m \u001b[0ms\u001b[0m\u001b[1;33m.\u001b[0m\u001b[0mprint_egg\u001b[0m\u001b[1;33m(\u001b[0m\u001b[1;33m)\u001b[0m\u001b[1;33m\u001b[0m\u001b[1;33m\u001b[0m\u001b[0m\n\u001b[0;32m      8\u001b[0m \u001b[0mprint\u001b[0m\u001b[1;33m(\u001b[0m\u001b[0ms\u001b[0m\u001b[1;33m.\u001b[0m\u001b[0m_Spam__egg\u001b[0m\u001b[1;33m)\u001b[0m\u001b[1;33m\u001b[0m\u001b[1;33m\u001b[0m\u001b[0m\n\u001b[1;32m----> 9\u001b[1;33m \u001b[0mprint\u001b[0m\u001b[1;33m(\u001b[0m\u001b[0ms\u001b[0m\u001b[1;33m.\u001b[0m\u001b[0m__egg\u001b[0m\u001b[1;33m)\u001b[0m\u001b[1;33m\u001b[0m\u001b[1;33m\u001b[0m\u001b[0m\n\u001b[0m",
      "\u001b[1;31mAttributeError\u001b[0m: 'Spam' object has no attribute '__egg'"
     ]
    }
   ],
   "source": [
    "class Spam:\n",
    "    __egg = 7\n",
    "    def print_egg(self):\n",
    "        print(self.__egg)\n",
    "\n",
    "s = Spam()\n",
    "s.print_egg()\n",
    "print(s._Spam__egg)\n",
    "print(s.__egg) #Not accessible\n",
    "#Basically, Python protects those members by internally \n",
    "#changing the name to include the class name."
   ]
  },
  {
   "cell_type": "code",
   "execution_count": 4,
   "metadata": {},
   "outputs": [
    {
     "name": "stdout",
     "output_type": "stream",
     "text": [
      "Game Over\n"
     ]
    }
   ],
   "source": [
    "class Player:\n",
    "    def __init__(self, name, lives):\n",
    "        self.name = name\n",
    "        self._lives = lives\n",
    "\n",
    "    def hit(self):\n",
    "        if self._lives==0:\n",
    "            print(\"Game Over\")\n",
    "        else:\n",
    "            self._lives-=1\n",
    "        \n",
    "\n",
    "p = Player(\"Cyberpunk77\", 3)\n",
    "p.hit()\n",
    "p.hit()\n",
    "p.hit()\n",
    "p.hit()"
   ]
  },
  {
   "cell_type": "markdown",
   "metadata": {},
   "source": [
    "## Class & Static Methods\n",
    "\n",
    "### Class Methods\n",
    "\n",
    "Methods of objects we've looked at so far are called by an instance of a class, which is then passed to the __self__ parameter of the method.\n",
    "\n",
    "__Class methods__ are different -- they are called by a class, which is passed to the cls parameter of the method. \n",
    "\n",
    "A common use of these are factory methods, which instantiate an __instance of a class__, using different parameters than those usually passed to the class constructor. \n",
    "\n",
    "Class methods are marked with a __classmethod decorator__.\n",
    "\n"
   ]
  },
  {
   "cell_type": "code",
   "execution_count": 5,
   "metadata": {},
   "outputs": [
    {
     "name": "stdout",
     "output_type": "stream",
     "text": [
      "25\n"
     ]
    }
   ],
   "source": [
    "class Rectangle:\n",
    "    def __init__(self, width, height):\n",
    "        self.width = width\n",
    "        self.height = height\n",
    "\n",
    "    def calculate_area(self):\n",
    "        return self.width * self.height\n",
    "\n",
    "    @classmethod\n",
    "    def new_square(cls, side_length):\n",
    "        return cls(side_length, side_length)\n",
    "\n",
    "square = Rectangle.new_square(5)\n",
    "print(square.calculate_area())"
   ]
  },
  {
   "cell_type": "markdown",
   "metadata": {},
   "source": [
    "__new_square__ is a class method and is called on the class, rather than on an instance of the class. It returns a new object of the class __cls__."
   ]
  },
  {
   "cell_type": "markdown",
   "metadata": {},
   "source": [
    "### Static Methods\n",
    "\n",
    "__Static methods__ are similar to class methods, except they don't receive any additional arguments; they are identical to normal functions that belong to a class. \n",
    "\n",
    "They are marked with the __staticmethod__ decorator.\n"
   ]
  },
  {
   "cell_type": "code",
   "execution_count": 8,
   "metadata": {},
   "outputs": [],
   "source": [
    "class Pizza:\n",
    "    def __init__(self, toppings):\n",
    "        self.toppings = toppings\n",
    "\n",
    "    @staticmethod\n",
    "    def validate_topping(topping):\n",
    "        if topping == \"pineapple\":\n",
    "            raise ValueError(\"No pineapples!\")\n",
    "        else:\n",
    "            return True\n",
    "\n",
    "ingredients = [\"cheese\", \"onions\", \"spam\",]\n",
    "if all(Pizza.validate_topping(i) for i in ingredients):\n",
    "    pizza = Pizza(ingredients)\n"
   ]
  },
  {
   "cell_type": "markdown",
   "metadata": {},
   "source": [
    "Static methods behave like plain functions, except for the fact that you can call them from an instance of the class."
   ]
  },
  {
   "cell_type": "markdown",
   "metadata": {},
   "source": [
    "## Properties \n",
    "\n",
    "__Properties__ provide a way of customizing access to instance attributes. \n",
    "\n",
    "They are created by putting the __@property__ decorator above a method, which means when the instance attribute with the same name as the method is accessed, the method will be called instead. \n",
    "\n",
    "One common use of a property is to make an attribute __read-only__."
   ]
  },
  {
   "cell_type": "code",
   "execution_count": 9,
   "metadata": {
    "collapsed": true,
    "jupyter": {
     "outputs_hidden": true
    }
   },
   "outputs": [
    {
     "name": "stdout",
     "output_type": "stream",
     "text": [
      "False\n"
     ]
    },
    {
     "ename": "AttributeError",
     "evalue": "can't set attribute",
     "output_type": "error",
     "traceback": [
      "\u001b[1;31m---------------------------------------------------------------------------\u001b[0m",
      "\u001b[1;31mAttributeError\u001b[0m                            Traceback (most recent call last)",
      "\u001b[1;32m<ipython-input-9-7d3f62f39dc0>\u001b[0m in \u001b[0;36m<module>\u001b[1;34m\u001b[0m\n\u001b[0;32m      9\u001b[0m \u001b[0mpizza\u001b[0m \u001b[1;33m=\u001b[0m \u001b[0mPizza\u001b[0m\u001b[1;33m(\u001b[0m\u001b[1;33m[\u001b[0m\u001b[1;34m\"cheese\"\u001b[0m\u001b[1;33m,\u001b[0m \u001b[1;34m\"tomato\"\u001b[0m\u001b[1;33m]\u001b[0m\u001b[1;33m)\u001b[0m\u001b[1;33m\u001b[0m\u001b[1;33m\u001b[0m\u001b[0m\n\u001b[0;32m     10\u001b[0m \u001b[0mprint\u001b[0m\u001b[1;33m(\u001b[0m\u001b[0mpizza\u001b[0m\u001b[1;33m.\u001b[0m\u001b[0mpineapple_allowed\u001b[0m\u001b[1;33m)\u001b[0m\u001b[1;33m\u001b[0m\u001b[1;33m\u001b[0m\u001b[0m\n\u001b[1;32m---> 11\u001b[1;33m \u001b[0mpizza\u001b[0m\u001b[1;33m.\u001b[0m\u001b[0mpineapple_allowed\u001b[0m \u001b[1;33m=\u001b[0m \u001b[1;32mTrue\u001b[0m\u001b[1;33m\u001b[0m\u001b[1;33m\u001b[0m\u001b[0m\n\u001b[0m",
      "\u001b[1;31mAttributeError\u001b[0m: can't set attribute"
     ]
    }
   ],
   "source": [
    "class Pizza:\n",
    "    def __init__(self, toppings):\n",
    "        self.toppings = toppings\n",
    "\n",
    "    @property\n",
    "    def pineapple_allowed(self):\n",
    "        return False\n",
    "\n",
    "pizza = Pizza([\"cheese\", \"tomato\"])\n",
    "print(pizza.pineapple_allowed)\n",
    "pizza.pineapple_allowed = True"
   ]
  },
  {
   "cell_type": "markdown",
   "metadata": {},
   "source": [
    "Properties can also be set by defining __setter/getter__ functions.\n",
    "\n",
    "The __setter__ function sets the corresponding property's value.\n",
    "\n",
    "The __getter__ gets the value.\n",
    "\n",
    "To define a __setter__, you need to use a decorator of the same name as the property, followed by a dot and the __setter__ keyword.\n",
    "\n",
    "The same applies to defining __getter__ functions."
   ]
  },
  {
   "cell_type": "code",
   "execution_count": 10,
   "metadata": {},
   "outputs": [
    {
     "name": "stdout",
     "output_type": "stream",
     "text": [
      "False\n",
      "Enter the password: Sw0rdf1sh!\n",
      "True\n"
     ]
    }
   ],
   "source": [
    "class Pizza:\n",
    "    def __init__(self, toppings):\n",
    "        self.toppings = toppings\n",
    "        self._pineapple_allowed = False\n",
    "\n",
    "    @property\n",
    "    def pineapple_allowed(self):\n",
    "        return self._pineapple_allowed\n",
    "\n",
    "    @pineapple_allowed.setter\n",
    "    def pineapple_allowed(self, value):\n",
    "        if value:\n",
    "            password = input(\"Enter the password: \")\n",
    "            if password == \"Sw0rdf1sh!\":\n",
    "                self._pineapple_allowed = value\n",
    "            else:\n",
    "                raise ValueError(\"Alert! Intruder!\")\n",
    "\n",
    "pizza = Pizza([\"cheese\", \"tomato\"])\n",
    "print(pizza.pineapple_allowed)\n",
    "pizza.pineapple_allowed = True\n",
    "print(pizza.pineapple_allowed)"
   ]
  },
  {
   "cell_type": "markdown",
   "metadata": {},
   "source": [
    "## Exceptions \n",
    "You have already seen **exceptions** in previous code. They occur when something goes wrong, due to incorrect code or input. When an exception occurs, the program immediately stops.\n",
    "\n",
    "The following code produces the **ZeroDivisionError** exception by trying to divide 7 by 0: \n",
    "\n",
    "An **exception** is an event, which occurs during the execution of a program that disrupts the normal flow of the program."
   ]
  },
  {
   "cell_type": "code",
   "execution_count": 16,
   "metadata": {
    "collapsed": true,
    "jupyter": {
     "outputs_hidden": true
    }
   },
   "outputs": [
    {
     "ename": "ZeroDivisionError",
     "evalue": "division by zero",
     "output_type": "error",
     "traceback": [
      "\u001b[1;31m---------------------------------------------------------------------------\u001b[0m",
      "\u001b[1;31mZeroDivisionError\u001b[0m                         Traceback (most recent call last)",
      "\u001b[1;32m<ipython-input-16-e4e18557d959>\u001b[0m in \u001b[0;36m<module>\u001b[1;34m\u001b[0m\n\u001b[0;32m      1\u001b[0m \u001b[0mnum1\u001b[0m \u001b[1;33m=\u001b[0m \u001b[1;36m7\u001b[0m\u001b[1;33m\u001b[0m\u001b[1;33m\u001b[0m\u001b[0m\n\u001b[0;32m      2\u001b[0m \u001b[0mnum2\u001b[0m \u001b[1;33m=\u001b[0m \u001b[1;36m0\u001b[0m\u001b[1;33m\u001b[0m\u001b[1;33m\u001b[0m\u001b[0m\n\u001b[1;32m----> 3\u001b[1;33m \u001b[0mprint\u001b[0m\u001b[1;33m(\u001b[0m\u001b[0mnum1\u001b[0m\u001b[1;33m/\u001b[0m\u001b[0mnum2\u001b[0m\u001b[1;33m)\u001b[0m\u001b[1;33m\u001b[0m\u001b[1;33m\u001b[0m\u001b[0m\n\u001b[0m",
      "\u001b[1;31mZeroDivisionError\u001b[0m: division by zero"
     ]
    }
   ],
   "source": [
    "num1 = 7\n",
    "num2 = 0\n",
    "print(num1/num2)"
   ]
  },
  {
   "cell_type": "markdown",
   "metadata": {},
   "source": [
    "Common exceptions:\n",
    "\n",
    "**ImportError**: an import fails;\n",
    "\n",
    "**IndexError**: a list is indexed with an out-of-range number;\n",
    "\n",
    "**NameError**: an unknown variable is used;\n",
    "\n",
    "**SyntaxError**: the code can't be parsed properly; \n",
    "\n",
    "**TypeError**: a function is called on a value of an inappropriate type;\n",
    "\n",
    "**ValueError**: a function is called on a value of the correct type, but with an inappropriate value.\n",
    "\n",
    "**ZeroDivisionError** and **OSError**"
   ]
  },
  {
   "cell_type": "markdown",
   "metadata": {},
   "source": [
    "### Exception Handling \n",
    "When an exception occurs, the program stops executing.\n",
    "\n",
    "To handle exceptions, and to call code when an exception occurs, you can use a **try/except** statement.\n",
    "\n",
    "The **try** block contains code that might throw an exception. If that exception occurs, the code in the try block stops being executed, and the code in the **except** block is run. If no error occurs, the code in the **except** block doesn't run.\n",
    "\n",
    "After a **try/except** statement, a **finally** block can follow. It will execute after the **try/except** block, no matter if an exception occurred or not.\n",
    "\n",
    "The **finally** block is useful, for example, when working with files and resources: it can be used to make sure files or resources are closed or released regardless of whether an exception occurs."
   ]
  },
  {
   "cell_type": "code",
   "execution_count": 25,
   "metadata": {},
   "outputs": [
    {
     "name": "stdout",
     "output_type": "stream",
     "text": [
      "An error occurred\n",
      "due to zero division\n",
      "Finished\n"
     ]
    }
   ],
   "source": [
    "try:\n",
    "    num1=7\n",
    "    num2=0\n",
    "    #print(value)\n",
    "    print(num1 / num2)\n",
    "    print(\"Done Calculation\")\n",
    "except ZeroDivisionError:\n",
    "    print(\"An error occurred\")\n",
    "    print(\"due to zero division\")\n",
    "except (ValueError, TypeError, NameError):\n",
    "    print(\"Other Error occurred\")\n",
    "finally:\n",
    "    print(\"Finished\")"
   ]
  },
  {
   "cell_type": "markdown",
   "metadata": {},
   "source": [
    "### else \n",
    "The **else** statement can also be used with **try/except** statements. \n",
    "\n",
    "In this case, the code within it is only executed if **no error** occurs in the try statement."
   ]
  },
  {
   "cell_type": "code",
   "execution_count": 27,
   "metadata": {},
   "outputs": [
    {
     "name": "stdout",
     "output_type": "stream",
     "text": [
      "1\n",
      "3\n",
      "4\n"
     ]
    }
   ],
   "source": [
    "try:\n",
    "    print(1)\n",
    "except ZeroDivisionError:\n",
    "    print(2)\n",
    "else:\n",
    "    print(3) #will run\n",
    "\n",
    "try:\n",
    "    print(1/0)\n",
    "except ZeroDivisionError:\n",
    "    print(4)\n",
    "else:\n",
    "    print(5) #will not run"
   ]
  },
  {
   "cell_type": "markdown",
   "metadata": {},
   "source": [
    "### Raising Exceptions \n",
    " \n",
    "\n",
    "You can throw (or raise) exceptions when some condition occurs. \n",
    "\n",
    "For example, when you take user input that needs to be in a specific format, you can throw an exception when it does not meet the requirements.\n",
    "\n",
    "This is done using the **raise** statement.\n",
    "\n",
    "You need to specify the type of the exception raised. In the code above, we raise a ValueError."
   ]
  },
  {
   "cell_type": "code",
   "execution_count": 28,
   "metadata": {
    "collapsed": true,
    "jupyter": {
     "outputs_hidden": true
    }
   },
   "outputs": [
    {
     "ename": "ValueError",
     "evalue": "",
     "output_type": "error",
     "traceback": [
      "\u001b[1;31m---------------------------------------------------------------------------\u001b[0m",
      "\u001b[1;31mValueError\u001b[0m                                Traceback (most recent call last)",
      "\u001b[1;32m<ipython-input-28-91dfe72911ec>\u001b[0m in \u001b[0;36m<module>\u001b[1;34m\u001b[0m\n\u001b[0;32m      1\u001b[0m \u001b[0mnum\u001b[0m \u001b[1;33m=\u001b[0m \u001b[1;36m102\u001b[0m\u001b[1;33m\u001b[0m\u001b[1;33m\u001b[0m\u001b[0m\n\u001b[0;32m      2\u001b[0m \u001b[1;32mif\u001b[0m \u001b[0mnum\u001b[0m \u001b[1;33m>\u001b[0m \u001b[1;36m100\u001b[0m\u001b[1;33m:\u001b[0m\u001b[1;33m\u001b[0m\u001b[1;33m\u001b[0m\u001b[0m\n\u001b[1;32m----> 3\u001b[1;33m   \u001b[1;32mraise\u001b[0m \u001b[0mValueError\u001b[0m\u001b[1;33m\u001b[0m\u001b[1;33m\u001b[0m\u001b[0m\n\u001b[0m",
      "\u001b[1;31mValueError\u001b[0m: "
     ]
    }
   ],
   "source": [
    "num = 102\n",
    "if num > 100:\n",
    "  raise ValueError"
   ]
  },
  {
   "cell_type": "code",
   "execution_count": 29,
   "metadata": {
    "collapsed": true,
    "jupyter": {
     "outputs_hidden": true
    }
   },
   "outputs": [
    {
     "ename": "NameError",
     "evalue": "Invalid name!",
     "output_type": "error",
     "traceback": [
      "\u001b[1;31m---------------------------------------------------------------------------\u001b[0m",
      "\u001b[1;31mNameError\u001b[0m                                 Traceback (most recent call last)",
      "\u001b[1;32m<ipython-input-29-d5ceb78ca603>\u001b[0m in \u001b[0;36m<module>\u001b[1;34m\u001b[0m\n\u001b[0;32m      1\u001b[0m \u001b[0mname\u001b[0m \u001b[1;33m=\u001b[0m \u001b[1;34m\"123\"\u001b[0m\u001b[1;33m\u001b[0m\u001b[1;33m\u001b[0m\u001b[0m\n\u001b[1;32m----> 2\u001b[1;33m \u001b[1;32mraise\u001b[0m \u001b[0mNameError\u001b[0m\u001b[1;33m(\u001b[0m\u001b[1;34m\"Invalid name!\"\u001b[0m\u001b[1;33m)\u001b[0m\u001b[1;33m\u001b[0m\u001b[1;33m\u001b[0m\u001b[0m\n\u001b[0m",
      "\u001b[1;31mNameError\u001b[0m: Invalid name!"
     ]
    }
   ],
   "source": [
    "name = \"123\"\n",
    "raise NameError(\"Invalid name!\")"
   ]
  }
 ],
 "metadata": {
  "kernelspec": {
   "display_name": "Python 3 (ipykernel)",
   "language": "python",
   "name": "python3"
  },
  "language_info": {
   "codemirror_mode": {
    "name": "ipython",
    "version": 3
   },
   "file_extension": ".py",
   "mimetype": "text/x-python",
   "name": "python",
   "nbconvert_exporter": "python",
   "pygments_lexer": "ipython3",
   "version": "3.12.3"
  }
 },
 "nbformat": 4,
 "nbformat_minor": 4
}
